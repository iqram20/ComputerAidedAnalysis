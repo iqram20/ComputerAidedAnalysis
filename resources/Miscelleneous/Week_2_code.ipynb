"""
==============================================================
Lid-Driven Cavity Flow (2D incompressible Navier–Stokes)
==============================================================

This program solves the classic lid-driven cavity flow problem:
- A square cavity of fluid with all walls fixed (no-slip), except the top wall ("lid"),
  which moves at constant velocity. This creates circulation inside the cavity.

Numerical method:
- Finite Difference (FD) method on a uniform grid
- Pressure-Poisson equation ensures incompressibility (∇·u = 0)
- Time-stepping until approximate steady state
- Comparison with Ghia et al. (1982) benchmark results

Learning Goals:
- Understand how the Navier–Stokes equations are discretized and solved
- Observe the effect of Reynolds number (Re = UL/ν) on flow patterns
- Learn how to validate CFD results with published benchmarks

==============================================================
"""

import numpy as np
import matplotlib.pyplot as plt
import pandas as pd

# ==========================================================
# Helper functions
# ==========================================================

def build_up_b(b, rho, dt, u, v, dx, dy):
    """
    Construct the source term 'b' for the pressure Poisson equation.

    Derived from continuity + momentum equations.
    Ensures that the updated velocity field satisfies ∇·u = 0.
    """
    b[1:-1, 1:-1] = (rho * (1 / dt *
                   ((u[1:-1, 2:] - u[1:-1, 0:-2]) / (2 * dx) +
                    (v[2:, 1:-1] - v[0:-2, 1:-1]) / (2 * dy)) -
                   ((u[1:-1, 2:] - u[1:-1, 0:-2]) / (2 * dx))**2 -
                     2 * ((u[2:, 1:-1] - u[0:-2, 1:-1]) / (2 * dy) *
                          (v[1:-1, 2:] - v[1:-1, 0:-2]) / (2 * dx)) -
                   ((v[2:, 1:-1] - v[0:-2, 1:-1]) / (2 * dy))**2))
    return b


def pressure_poisson_l1norm(p, dx, dy, b, l1norm_target=1e-4, maxiter=5000):
    """
    Iteratively solve the pressure Poisson equation until convergence.
    Uses L1 norm as stopping criterion.

    Equation: ∇²p = b
    """
    pn = np.empty_like(p)
    l1norm = 1.0
    small = 1e-8
    niter = 0
    while l1norm > l1norm_target and niter < maxiter:
        niter += 1
        pn = p.copy()
        p[1:-1, 1:-1] = (((pn[1:-1, 2:] + pn[1:-1, 0:-2]) * dy**2 +
                          (pn[2:, 1:-1] + pn[0:-2, 1:-1]) * dx**2) /
                         (2 * (dx**2 + dy**2)) -
                         dx**2 * dy**2 / (2 * (dx**2 + dy**2)) *
                         b[1:-1, 1:-1])

        # Boundary conditions for pressure
        p[:, -1] = p[:, -2]   # dp/dx = 0 at right wall
        p[:, 0]  = p[:, 1]    # dp/dx = 0 at left wall
        p[0, :]  = p[1, :]    # dp/dy = 0 at bottom wall
        p[-1, :] = 0          # p = 0 at top wall (reference pressure)

        l1norm = (np.sum(np.abs(p - pn)) /
                  (np.sum(np.abs(pn)) + small))
    return p, niter


def velocity_update(u, v, dx, dy, dt, rho, p, un, vn, nu):
    """
    Update velocity field (u,v) using the discretized
    Navier–Stokes equations.

    Terms included:
    - Convection (nonlinear advection)
    - Pressure gradient
    - Diffusion (viscosity)
    """
    # Update u-component
    u[1:-1, 1:-1] = (un[1:-1, 1:-1] -
                    un[1:-1, 1:-1] * dt / dx *
                    (un[1:-1, 1:-1] - un[1:-1, 0:-2]) -
                    vn[1:-1, 1:-1] * dt / dy *
                    (un[1:-1, 1:-1] - un[0:-2, 1:-1]) -
                    dt / (2 * rho * dx) *
                    (p[1:-1, 2:] - p[1:-1, 0:-2]) +
                    nu * (dt / dx**2 *
                    (un[1:-1, 2:] - 2 * un[1:-1, 1:-1] + un[1:-1, 0:-2]) +
                    dt / dy**2 *
                    (un[2:, 1:-1] - 2 * un[1:-1, 1:-1] + un[0:-2, 1:-1])))

    # Update v-component
    v[1:-1, 1:-1] = (vn[1:-1, 1:-1] -
                    un[1:-1, 1:-1] * dt / dx *
                    (vn[1:-1, 1:-1] - vn[1:-1, 0:-2]) -
                    vn[1:-1, 1:-1] * dt / dy *
                    (vn[1:-1, 1:-1] - vn[0:-2, 1:-1]) -
                    dt / (2 * rho * dy) *
                    (p[2:, 1:-1] - p[0:-2, 1:-1]) +
                    nu * (dt / dx**2 *
                    (vn[1:-1, 2:] - 2 * vn[1:-1, 1:-1] + vn[1:-1, 0:-2]) +
                    dt / dy**2 *
                    (vn[2:, 1:-1] - 2 * vn[1:-1, 1:-1] + vn[0:-2, 1:-1])))

    return u, v


# ==========================================================
# Main solver
# ==========================================================

def cavity_flow(nx=41, ny=41, nt=100, Re=100, c=1.0, rho=1.0, l1tol=1e-4):
    """
    Lid-driven cavity solver main loop.

    Arguments:
    nx, ny : grid points in x and y
    nt     : number of time steps
    Re     : Reynolds number (sets viscosity)
    c      : lid velocity (top wall speed)
    rho    : fluid density
    l1tol  : tolerance for pressure solver
    """
    # Domain setup
    Lx, Ly = 2.0, 2.0
    dx, dy = Lx / (nx-1), Ly / (ny-1)
    dt = 0.001   # time step (can adjust for stability)

    # Viscosity from Reynolds number
    nu = c * Lx / Re
    print(f"Running cavity flow: Re={Re}, nu={nu:.4e}")

    # Initialize fields
    u = np.zeros((ny, nx))   # x-velocity
    v = np.zeros((ny, nx))   # y-velocity
    p = np.zeros((ny, nx))   # pressure
    b = np.zeros((ny, nx))   # source term

    residuals = []           # store convergence history

    for n in range(nt):
        un, vn, pn = u.copy(), v.copy(), p.copy()
        b = build_up_b(b, rho, dt, u, v, dx, dy)
        p, niter = pressure_poisson_l1norm(p, dx, dy, b, l1tol)

        u, v = velocity_update(u, v, dx, dy, dt, rho, p, un, vn, nu)

        # Boundary conditions
        u[0, :] = 0; u[:, 0] = 0; u[:, -1] = 0; u[-1, :] = c   # lid moves
        v[0, :] = 0; v[-1, :] = 0; v[:, 0] = 0; v[:, -1] = 0   # no-slip

        # Convergence monitoring
        small = 1e-8
        l1u = np.sum(np.abs(u - un)) / (np.sum(np.abs(un)) + small)
        l1v = np.sum(np.abs(v - vn)) / (np.sum(np.abs(vn)) + small)
        l1p = np.sum(np.abs(p - pn)) / (np.sum(np.abs(pn)) + small)
        residuals.append((l1u, l1v, l1p))

    return u, v, p, residuals, dx, dy


# ==========================================================
# Visualization
# ==========================================================

def plot_fields(u, v, p, dx, dy):
    """Plot pressure contours and velocity field"""
    ny, nx = u.shape
    x = np.linspace(0, 2, nx)
    y = np.linspace(0, 2, ny)
    X, Y = np.meshgrid(x, y)

    # Pressure + velocity quiver
    plt.figure(figsize=(10,7))
    cf = plt.contourf(X, Y, p, alpha=0.5, cmap='turbo', levels=20)
    plt.colorbar(cf, label='Pressure')
    plt.contour(X, Y, p, cmap='turbo', levels=10)
    plt.quiver(X[::2, ::2], Y[::2, ::2], u[::2, ::2], v[::2, ::2])
    plt.xlabel("X"); plt.ylabel("Y")
    plt.title("Pressure and Velocity fields")
    plt.show()

    # Streamlines
    plt.figure(figsize=(10,7))
    plt.contourf(X, Y, p, alpha=0.5, cmap='coolwarm')
    plt.colorbar()
    plt.streamplot(X, Y, u, v, color='k')
    plt.xlabel("X"); plt.ylabel("Y")
    plt.title("Streamlines")
    plt.show()


def plot_residuals(residuals):
    """Plot convergence history of u, v, p"""
    residuals = np.array(residuals)
    plt.figure(figsize=(8,6))
    plt.semilogy(residuals[:,0], label='u')
    plt.semilogy(residuals[:,1], label='v')
    plt.semilogy(residuals[:,2], label='p')
    plt.legend(); plt.grid()
    plt.xlabel("Iteration"); plt.ylabel("L1 residual")
    plt.title("Convergence history")
    plt.show()


def compare_with_ghia(u, y, nx, ny, Re):
    """
    Compare CFD result with Ghia et al. (1982) benchmark.
    Here: u-velocity along vertical centerline.
    """
    with open("Ghia-1982.txt") as file:
        lines = file.readlines()[5:-7]
    data = [list(map(float, line.split())) for line in lines]
    df = pd.DataFrame(data, columns=['y','Re=100','Re=400','Re=1000','Re=3200','Re=5000','Re=7500','Re=10000']).set_index('y')

    plt.figure(figsize=(8,6))
    plt.plot(df[f"Re={Re}"].values, df.index.values, "o", label=f"Ghia-1982 Re={Re}")
    plt.plot(u[:, int(nx/2)], y, "-", label=f"CFD Re={Re}")
    plt.gca().invert_yaxis()
    plt.xlabel("u-velocity"); plt.ylabel("y")
    plt.legend(); plt.grid(); plt.title("Centerline velocity comparison")
    plt.show()


# ==========================================================
# Run example
# ==========================================================

if __name__ == "__main__":
    nx, ny, nt, Re = 41, 41, 200, 100
    u, v, p, residuals, dx, dy = cavity_flow(nx, ny, nt, Re=Re)

    plot_fields(u, v, p, dx, dy)
    plot_residuals(residuals)

    y = np.linspace(0, 2, ny)
    compare_with_ghia(u, y, nx, ny, Re)
